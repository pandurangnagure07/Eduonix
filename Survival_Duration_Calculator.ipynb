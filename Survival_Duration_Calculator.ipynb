{
  "nbformat": 4,
  "nbformat_minor": 0,
  "metadata": {
    "colab": {
      "provenance": [],
      "authorship_tag": "ABX9TyMqGVUnFMd2FbkUZrCDnbF8",
      "include_colab_link": true
    },
    "kernelspec": {
      "name": "python3",
      "display_name": "Python 3"
    },
    "language_info": {
      "name": "python"
    }
  },
  "cells": [
    {
      "cell_type": "markdown",
      "metadata": {
        "id": "view-in-github",
        "colab_type": "text"
      },
      "source": [
        "<a href=\"https://colab.research.google.com/github/pandurangnagure07/Eduonix/blob/main/Survival_Duration_Calculator.ipynb\" target=\"_parent\"><img src=\"https://colab.research.google.com/assets/colab-badge.svg\" alt=\"Open In Colab\"/></a>"
      ]
    },
    {
      "cell_type": "code",
      "execution_count": null,
      "metadata": {
        "colab": {
          "base_uri": "https://localhost:8080/"
        },
        "id": "DwGbc-96t0Sv",
        "outputId": "d1b92bcf-11d3-4b89-812c-fe706a34dc17"
      },
      "outputs": [
        {
          "output_type": "stream",
          "name": "stdout",
          "text": [
            "Please enter you age : \n"
          ]
        }
      ],
      "source": [
        "import datetime\n",
        "print(\"Please enter you age : \")"
      ]
    },
    {
      "cell_type": "code",
      "source": [
        "import datetime\n",
        "from datetime import date\n",
        "from datetime import time\n",
        "birth_day=int(input(\"Enter your birth day : \"))\n",
        "birth_month=int(input(\"Enter your birth month : \"))\n",
        "birth_year=int(input(\"Enter your birth year : \"))\n",
        "\n",
        "\n",
        "current_day=date.today().day\n",
        "current_month=date.today().month\n",
        "current_year=date.today().year\n",
        "current_hours=time().hour\n",
        "current_minutes=time().minute\n",
        "current_seconds=time().second\n",
        "\n",
        "age_day=birth_day-current_day\n",
        "age_month=current_month-birth_month\n",
        "age_year=current_year-birth_year\n",
        "age_hours=age_year*365.5*24\n",
        "age_minutes=age_year*365.5*24*60\n",
        "age_seconds=age_year*365.5*24*60*60\n",
        "print(f\"Your current age is : {age_year} years, {age_month} months1, {age_day} days, {age_hours} hours, {age_minutes} minutes, {age_seconds} seconds\")\n",
        "\n"
      ],
      "metadata": {
        "id": "hFQIL97CxyrD"
      },
      "execution_count": null,
      "outputs": []
    },
    {
      "cell_type": "markdown",
      "source": [],
      "metadata": {
        "id": "iqZfNhCj0W-b"
      }
    }
  ]
}